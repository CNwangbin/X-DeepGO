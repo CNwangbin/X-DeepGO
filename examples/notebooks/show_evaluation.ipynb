{
 "cells": [
  {
   "cell_type": "code",
   "execution_count": 11,
   "id": "bad45569",
   "metadata": {},
   "outputs": [],
   "source": [
    "import os\n",
    "import sys\n",
    "import pandas as pd\n",
    "sys.path.append('../../')\n",
    "from deepfold.data.utils.ontology import Ontology\n",
    "from tools.evaluate_deepmodel import get_model_preds\n",
    "from tools.evaluate_diamondscore import get_diamond_preds, get_diamond_scores"
   ]
  },
  {
   "cell_type": "code",
   "execution_count": 12,
   "id": "e60209f8",
   "metadata": {},
   "outputs": [],
   "source": [
    "base_path = r'/home/niejianzheng/xbiome/datasets/protein'\n",
    "# 存储所有数据文件路径\n",
    "data_ls = os.walk(base_path).__next__()[2]\n",
    "data_path_dict = {}\n",
    "for data in data_ls:\n",
    "    file_name = data.split('.')[0] + '_' + data.split('.')[1]\n",
    "    data_path_dict[file_name] = os.path.join(base_path, data)"
   ]
  },
  {
   "cell_type": "code",
   "execution_count": 13,
   "id": "121007fc",
   "metadata": {},
   "outputs": [
    {
     "data": {
      "text/plain": [
       "{'test_data_fa': '/home/niejianzheng/xbiome/datasets/protein/test_data.fa',\n",
       " 'uniprot_sprot_dat': '/home/niejianzheng/xbiome/datasets/protein/uniprot_sprot.dat',\n",
       " 'test_diamond_res': '/home/niejianzheng/xbiome/datasets/protein/test_diamond.res',\n",
       " 'test_data_pkl': '/home/niejianzheng/xbiome/datasets/protein/test_data.pkl',\n",
       " 'go_obo': '/home/niejianzheng/xbiome/datasets/protein/go.obo',\n",
       " 'train_data_pkl': '/home/niejianzheng/xbiome/datasets/protein/train_data.pkl',\n",
       " 'esm1b_t33_650M_UR50S_embeddings_mean_train_pkl': '/home/niejianzheng/xbiome/datasets/protein/esm1b_t33_650M_UR50S_embeddings_mean_train.pkl',\n",
       " 'train_data_dmnd': '/home/niejianzheng/xbiome/datasets/protein/train_data.dmnd',\n",
       " 'predictions_pkl': '/home/niejianzheng/xbiome/datasets/protein/predictions.pkl',\n",
       " 'esm1b_t33_650M_UR50S_embeddings_mean_test_pkl': '/home/niejianzheng/xbiome/datasets/protein/esm1b_t33_650M_UR50S_embeddings_mean_test.pkl',\n",
       " 'terms_pkl': '/home/niejianzheng/xbiome/datasets/protein/terms.pkl',\n",
       " 'swissprot_pkl': '/home/niejianzheng/xbiome/datasets/protein/swissprot.pkl',\n",
       " 'train_data_fa': '/home/niejianzheng/xbiome/datasets/protein/train_data.fa'}"
      ]
     },
     "execution_count": 13,
     "metadata": {},
     "output_type": "execute_result"
    }
   ],
   "source": [
    "data_path_dict"
   ]
  },
  {
   "cell_type": "markdown",
   "id": "8d4cf957",
   "metadata": {},
   "source": [
    "## Diamond model"
   ]
  },
  {
   "cell_type": "code",
   "execution_count": 19,
   "id": "0d3fe0cf",
   "metadata": {},
   "outputs": [],
   "source": [
    "go_rels = Ontology(data_path_dict['go_obo'], with_rels=True)\n",
    "\n",
    "train_df = pd.read_pickle(data_path_dict['train_data_pkl'])\n",
    "annotations = train_df['prop_annotations'].values\n",
    "annotations = list(map(lambda x: set(x), annotations))\n",
    "\n",
    "test_df = pd.read_pickle(data_path_dict['test_data_pkl'])\n",
    "test_annotations = test_df['prop_annotations'].values\n",
    "test_annotations = list(map(lambda x: set(x), test_annotations))\n",
    "go_rels.calculate_ic(annotations + test_annotations)\n",
    "\n",
    "diamond_scores = get_diamond_scores(data_path_dict['test_diamond_res'])\n",
    "blast_preds = get_diamond_preds(train_df, test_df, diamond_scores)"
   ]
  },
  {
   "cell_type": "code",
   "execution_count": 21,
   "id": "275944e7",
   "metadata": {},
   "outputs": [
    {
     "data": {
      "text/plain": [
       "3874"
      ]
     },
     "execution_count": 21,
     "metadata": {},
     "output_type": "execute_result"
    }
   ],
   "source": [
    "len(blast_preds)"
   ]
  },
  {
   "cell_type": "code",
   "execution_count": 22,
   "id": "d01cb045",
   "metadata": {},
   "outputs": [
    {
     "data": {
      "text/plain": [
       "{'GO:0000003': 0.11156404,\n",
       " 'GO:0000131': 0.23063721,\n",
       " 'GO:0000271': 0.10405492,\n",
       " 'GO:0000280': 0.11156404,\n",
       " 'GO:0003006': 0.11156404,\n",
       " 'GO:0003674': 0.5462347,\n",
       " 'GO:0003824': 0.5462347,\n",
       " 'GO:0005488': 0.5462347,\n",
       " 'GO:0005515': 0.5462347,\n",
       " 'GO:0005575': 1.0,\n",
       " 'GO:0005622': 0.45376527,\n",
       " 'GO:0005628': 0.11156404,\n",
       " 'GO:0005634': 0.34971038,\n",
       " 'GO:0005737': 0.45376527,\n",
       " 'GO:0005815': 0.23063721,\n",
       " 'GO:0005816': 0.23063721,\n",
       " 'GO:0005829': 0.45376527,\n",
       " 'GO:0005856': 0.23063721,\n",
       " 'GO:0005886': 0.20403346,\n",
       " 'GO:0005933': 0.23063721,\n",
       " 'GO:0005935': 0.23063721,\n",
       " 'GO:0005975': 0.10405492,\n",
       " 'GO:0005976': 0.10405492,\n",
       " 'GO:0006022': 0.5462347,\n",
       " 'GO:0006023': 0.5462347,\n",
       " 'GO:0006030': 0.5462347,\n",
       " 'GO:0006031': 0.5462347,\n",
       " 'GO:0006037': 0.43467066,\n",
       " 'GO:0006038': 0.43467066,\n",
       " 'GO:0006040': 0.5462347,\n",
       " 'GO:0006807': 0.5462347,\n",
       " 'GO:0006996': 0.11156404,\n",
       " 'GO:0007049': 0.11156404,\n",
       " 'GO:0008047': 0.5462347,\n",
       " 'GO:0008150': 0.65028965,\n",
       " 'GO:0008152': 0.65028965,\n",
       " 'GO:0009058': 0.65028965,\n",
       " 'GO:0009059': 0.65028965,\n",
       " 'GO:0009272': 0.5387256,\n",
       " 'GO:0009653': 0.11156404,\n",
       " 'GO:0009987': 0.65028965,\n",
       " 'GO:0010383': 0.10405492,\n",
       " 'GO:0015630': 0.23063721,\n",
       " 'GO:0016020': 0.8959451,\n",
       " 'GO:0016043': 0.11156404,\n",
       " 'GO:0016051': 0.10405492,\n",
       " 'GO:0019953': 0.11156404,\n",
       " 'GO:0022402': 0.11156404,\n",
       " 'GO:0022413': 0.11156404,\n",
       " 'GO:0022414': 0.11156404,\n",
       " 'GO:0030154': 0.11156404,\n",
       " 'GO:0030234': 0.5462347,\n",
       " 'GO:0030427': 0.23063721,\n",
       " 'GO:0030435': 0.11156404,\n",
       " 'GO:0030437': 0.11156404,\n",
       " 'GO:0032153': 0.34971038,\n",
       " 'GO:0032502': 0.11156404,\n",
       " 'GO:0032505': 0.11156404,\n",
       " 'GO:0032991': 0.23063721,\n",
       " 'GO:0033692': 0.10405492,\n",
       " 'GO:0034221': 0.43467066,\n",
       " 'GO:0034293': 0.11156404,\n",
       " 'GO:0034637': 0.10405492,\n",
       " 'GO:0034645': 0.10405492,\n",
       " 'GO:0042546': 0.5387256,\n",
       " 'GO:0042763': 0.11156404,\n",
       " 'GO:0042764': 0.11156404,\n",
       " 'GO:0043170': 0.65028965,\n",
       " 'GO:0043226': 0.34971038,\n",
       " 'GO:0043227': 0.34971038,\n",
       " 'GO:0043228': 0.23063721,\n",
       " 'GO:0043229': 0.34971038,\n",
       " 'GO:0043231': 0.34971038,\n",
       " 'GO:0043232': 0.23063721,\n",
       " 'GO:0043934': 0.11156404,\n",
       " 'GO:0043935': 0.11156404,\n",
       " 'GO:0044036': 0.10405492,\n",
       " 'GO:0044038': 0.10405492,\n",
       " 'GO:0044085': 0.5387256,\n",
       " 'GO:0044237': 0.10405492,\n",
       " 'GO:0044238': 0.10405492,\n",
       " 'GO:0044249': 0.10405492,\n",
       " 'GO:0044260': 0.10405492,\n",
       " 'GO:0044262': 0.10405492,\n",
       " 'GO:0044264': 0.10405492,\n",
       " 'GO:0044703': 0.11156404,\n",
       " 'GO:0044732': 0.23063721,\n",
       " 'GO:0046349': 0.5462347,\n",
       " 'GO:0048285': 0.11156404,\n",
       " 'GO:0048468': 0.11156404,\n",
       " 'GO:0048646': 0.11156404,\n",
       " 'GO:0048856': 0.11156404,\n",
       " 'GO:0048869': 0.11156404,\n",
       " 'GO:0050790': 0.5462347,\n",
       " 'GO:0051278': 0.10405492,\n",
       " 'GO:0051286': 0.23063721,\n",
       " 'GO:0051321': 0.11156404,\n",
       " 'GO:0051704': 0.11156404,\n",
       " 'GO:0060187': 0.23063721,\n",
       " 'GO:0065007': 0.5462347,\n",
       " 'GO:0065009': 0.5462347,\n",
       " 'GO:0070589': 0.10405492,\n",
       " 'GO:0070592': 0.10405492,\n",
       " 'GO:0071554': 0.5387256,\n",
       " 'GO:0071704': 0.65028965,\n",
       " 'GO:0071840': 0.65028965,\n",
       " 'GO:0071852': 0.5387256,\n",
       " 'GO:0071944': 0.20403346,\n",
       " 'GO:0071966': 0.10405492,\n",
       " 'GO:0098772': 0.5462347,\n",
       " 'GO:0110165': 1.0,\n",
       " 'GO:0140013': 0.11156404,\n",
       " 'GO:0140535': 0.23063721,\n",
       " 'GO:1901071': 0.5462347,\n",
       " 'GO:1901073': 0.5462347,\n",
       " 'GO:1901135': 0.5462347,\n",
       " 'GO:1901137': 0.5462347,\n",
       " 'GO:1901564': 0.5462347,\n",
       " 'GO:1901566': 0.5462347,\n",
       " 'GO:1901576': 0.65028965,\n",
       " 'GO:1903046': 0.11156404}"
      ]
     },
     "execution_count": 22,
     "metadata": {},
     "output_type": "execute_result"
    }
   ],
   "source": [
    "blast_preds[0]"
   ]
  },
  {
   "cell_type": "markdown",
   "id": "e4e7d33a",
   "metadata": {},
   "source": [
    "## DeeGoPlus Model"
   ]
  },
  {
   "cell_type": "markdown",
   "id": "62570ee5",
   "metadata": {},
   "source": []
  }
 ],
 "metadata": {
  "kernelspec": {
   "display_name": "Python 3 (ipykernel)",
   "language": "python",
   "name": "python3"
  },
  "language_info": {
   "codemirror_mode": {
    "name": "ipython",
    "version": 3
   },
   "file_extension": ".py",
   "mimetype": "text/x-python",
   "name": "python",
   "nbconvert_exporter": "python",
   "pygments_lexer": "ipython3",
   "version": "3.9.12"
  }
 },
 "nbformat": 4,
 "nbformat_minor": 5
}
